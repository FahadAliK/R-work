{
 "cells": [
  {
   "cell_type": "markdown",
   "metadata": {},
   "source": [
    "# Creating a Matrix"
   ]
  },
  {
   "cell_type": "code",
   "execution_count": 1,
   "metadata": {},
   "outputs": [
    {
     "data": {
      "text/html": [
       "<ol class=list-inline>\n",
       "\t<li>1</li>\n",
       "\t<li>2</li>\n",
       "\t<li>3</li>\n",
       "\t<li>4</li>\n",
       "\t<li>5</li>\n",
       "\t<li>6</li>\n",
       "\t<li>7</li>\n",
       "\t<li>8</li>\n",
       "\t<li>9</li>\n",
       "\t<li>10</li>\n",
       "</ol>\n"
      ],
      "text/latex": [
       "\\begin{enumerate*}\n",
       "\\item 1\n",
       "\\item 2\n",
       "\\item 3\n",
       "\\item 4\n",
       "\\item 5\n",
       "\\item 6\n",
       "\\item 7\n",
       "\\item 8\n",
       "\\item 9\n",
       "\\item 10\n",
       "\\end{enumerate*}\n"
      ],
      "text/markdown": [
       "1. 1\n",
       "2. 2\n",
       "3. 3\n",
       "4. 4\n",
       "5. 5\n",
       "6. 6\n",
       "7. 7\n",
       "8. 8\n",
       "9. 9\n",
       "10. 10\n",
       "\n",
       "\n"
      ],
      "text/plain": [
       " [1]  1  2  3  4  5  6  7  8  9 10"
      ]
     },
     "metadata": {},
     "output_type": "display_data"
    }
   ],
   "source": [
    "1 : 10"
   ]
  },
  {
   "cell_type": "code",
   "execution_count": 2,
   "metadata": {},
   "outputs": [],
   "source": [
    "v <- 1 : 10"
   ]
  },
  {
   "cell_type": "code",
   "execution_count": 3,
   "metadata": {},
   "outputs": [
    {
     "data": {
      "text/html": [
       "<ol class=list-inline>\n",
       "\t<li>1</li>\n",
       "\t<li>2</li>\n",
       "\t<li>3</li>\n",
       "\t<li>4</li>\n",
       "\t<li>5</li>\n",
       "\t<li>6</li>\n",
       "\t<li>7</li>\n",
       "\t<li>8</li>\n",
       "\t<li>9</li>\n",
       "\t<li>10</li>\n",
       "</ol>\n"
      ],
      "text/latex": [
       "\\begin{enumerate*}\n",
       "\\item 1\n",
       "\\item 2\n",
       "\\item 3\n",
       "\\item 4\n",
       "\\item 5\n",
       "\\item 6\n",
       "\\item 7\n",
       "\\item 8\n",
       "\\item 9\n",
       "\\item 10\n",
       "\\end{enumerate*}\n"
      ],
      "text/markdown": [
       "1. 1\n",
       "2. 2\n",
       "3. 3\n",
       "4. 4\n",
       "5. 5\n",
       "6. 6\n",
       "7. 7\n",
       "8. 8\n",
       "9. 9\n",
       "10. 10\n",
       "\n",
       "\n"
      ],
      "text/plain": [
       " [1]  1  2  3  4  5  6  7  8  9 10"
      ]
     },
     "metadata": {},
     "output_type": "display_data"
    }
   ],
   "source": [
    "v"
   ]
  },
  {
   "cell_type": "code",
   "execution_count": 4,
   "metadata": {},
   "outputs": [
    {
     "data": {
      "text/html": [
       "<table>\n",
       "<tbody>\n",
       "\t<tr><td> 1</td></tr>\n",
       "\t<tr><td> 2</td></tr>\n",
       "\t<tr><td> 3</td></tr>\n",
       "\t<tr><td> 4</td></tr>\n",
       "\t<tr><td> 5</td></tr>\n",
       "\t<tr><td> 6</td></tr>\n",
       "\t<tr><td> 7</td></tr>\n",
       "\t<tr><td> 8</td></tr>\n",
       "\t<tr><td> 9</td></tr>\n",
       "\t<tr><td>10</td></tr>\n",
       "</tbody>\n",
       "</table>\n"
      ],
      "text/latex": [
       "\\begin{tabular}{l}\n",
       "\t  1\\\\\n",
       "\t  2\\\\\n",
       "\t  3\\\\\n",
       "\t  4\\\\\n",
       "\t  5\\\\\n",
       "\t  6\\\\\n",
       "\t  7\\\\\n",
       "\t  8\\\\\n",
       "\t  9\\\\\n",
       "\t 10\\\\\n",
       "\\end{tabular}\n"
      ],
      "text/markdown": [
       "\n",
       "|  1 |\n",
       "|  2 |\n",
       "|  3 |\n",
       "|  4 |\n",
       "|  5 |\n",
       "|  6 |\n",
       "|  7 |\n",
       "|  8 |\n",
       "|  9 |\n",
       "| 10 |\n",
       "\n"
      ],
      "text/plain": [
       "      [,1]\n",
       " [1,]  1  \n",
       " [2,]  2  \n",
       " [3,]  3  \n",
       " [4,]  4  \n",
       " [5,]  5  \n",
       " [6,]  6  \n",
       " [7,]  7  \n",
       " [8,]  8  \n",
       " [9,]  9  \n",
       "[10,] 10  "
      ]
     },
     "metadata": {},
     "output_type": "display_data"
    }
   ],
   "source": [
    "matrix(v)"
   ]
  },
  {
   "cell_type": "code",
   "execution_count": 5,
   "metadata": {},
   "outputs": [
    {
     "data": {
      "text/html": [
       "<table>\n",
       "<tbody>\n",
       "\t<tr><td>1 </td><td>3 </td><td>5 </td><td>7 </td><td> 9</td></tr>\n",
       "\t<tr><td>2 </td><td>4 </td><td>6 </td><td>8 </td><td>10</td></tr>\n",
       "</tbody>\n",
       "</table>\n"
      ],
      "text/latex": [
       "\\begin{tabular}{lllll}\n",
       "\t 1  & 3  & 5  & 7  &  9\\\\\n",
       "\t 2  & 4  & 6  & 8  & 10\\\\\n",
       "\\end{tabular}\n"
      ],
      "text/markdown": [
       "\n",
       "| 1  | 3  | 5  | 7  |  9 |\n",
       "| 2  | 4  | 6  | 8  | 10 |\n",
       "\n"
      ],
      "text/plain": [
       "     [,1] [,2] [,3] [,4] [,5]\n",
       "[1,] 1    3    5    7     9  \n",
       "[2,] 2    4    6    8    10  "
      ]
     },
     "metadata": {},
     "output_type": "display_data"
    }
   ],
   "source": [
    "matrix(data = v, nrow = 2)"
   ]
  },
  {
   "cell_type": "code",
   "execution_count": 6,
   "metadata": {},
   "outputs": [
    {
     "data": {
      "text/html": [
       "<table>\n",
       "<tbody>\n",
       "\t<tr><td>1 </td><td>5 </td><td> 9</td></tr>\n",
       "\t<tr><td>2 </td><td>6 </td><td>10</td></tr>\n",
       "\t<tr><td>3 </td><td>7 </td><td>11</td></tr>\n",
       "\t<tr><td>4 </td><td>8 </td><td>12</td></tr>\n",
       "</tbody>\n",
       "</table>\n"
      ],
      "text/latex": [
       "\\begin{tabular}{lll}\n",
       "\t 1  & 5  &  9\\\\\n",
       "\t 2  & 6  & 10\\\\\n",
       "\t 3  & 7  & 11\\\\\n",
       "\t 4  & 8  & 12\\\\\n",
       "\\end{tabular}\n"
      ],
      "text/markdown": [
       "\n",
       "| 1  | 5  |  9 |\n",
       "| 2  | 6  | 10 |\n",
       "| 3  | 7  | 11 |\n",
       "| 4  | 8  | 12 |\n",
       "\n"
      ],
      "text/plain": [
       "     [,1] [,2] [,3]\n",
       "[1,] 1    5     9  \n",
       "[2,] 2    6    10  \n",
       "[3,] 3    7    11  \n",
       "[4,] 4    8    12  "
      ]
     },
     "metadata": {},
     "output_type": "display_data"
    }
   ],
   "source": [
    "matrix(data = 1 : 12, byrow = FALSE, nrow = 4)"
   ]
  },
  {
   "cell_type": "code",
   "execution_count": 7,
   "metadata": {},
   "outputs": [
    {
     "data": {
      "text/html": [
       "<table>\n",
       "<tbody>\n",
       "\t<tr><td>1 </td><td>5 </td><td> 9</td></tr>\n",
       "\t<tr><td>2 </td><td>6 </td><td>10</td></tr>\n",
       "\t<tr><td>3 </td><td>7 </td><td>11</td></tr>\n",
       "\t<tr><td>4 </td><td>8 </td><td>12</td></tr>\n",
       "</tbody>\n",
       "</table>\n"
      ],
      "text/latex": [
       "\\begin{tabular}{lll}\n",
       "\t 1  & 5  &  9\\\\\n",
       "\t 2  & 6  & 10\\\\\n",
       "\t 3  & 7  & 11\\\\\n",
       "\t 4  & 8  & 12\\\\\n",
       "\\end{tabular}\n"
      ],
      "text/markdown": [
       "\n",
       "| 1  | 5  |  9 |\n",
       "| 2  | 6  | 10 |\n",
       "| 3  | 7  | 11 |\n",
       "| 4  | 8  | 12 |\n",
       "\n"
      ],
      "text/plain": [
       "     [,1] [,2] [,3]\n",
       "[1,] 1    5     9  \n",
       "[2,] 2    6    10  \n",
       "[3,] 3    7    11  \n",
       "[4,] 4    8    12  "
      ]
     },
     "metadata": {},
     "output_type": "display_data"
    }
   ],
   "source": [
    "matrix(data = 1:12, nrow = 4, byrow = FALSE)"
   ]
  },
  {
   "cell_type": "markdown",
   "metadata": {},
   "source": [
    "**Creating Matrices from Vectors**"
   ]
  },
  {
   "cell_type": "code",
   "execution_count": 8,
   "metadata": {},
   "outputs": [],
   "source": [
    "goog <- c(450, 451, 452, 445, 468)\n",
    "msft <- c(230, 231, 232, 236, 228)"
   ]
  },
  {
   "cell_type": "code",
   "execution_count": 9,
   "metadata": {},
   "outputs": [],
   "source": [
    "stocks <- c(goog, msft)"
   ]
  },
  {
   "cell_type": "code",
   "execution_count": 10,
   "metadata": {},
   "outputs": [],
   "source": [
    "stock.matrix <- matrix(data = stocks, nrow = 2, byrow = TRUE)"
   ]
  },
  {
   "cell_type": "code",
   "execution_count": 11,
   "metadata": {},
   "outputs": [
    {
     "data": {
      "text/html": [
       "<table>\n",
       "<tbody>\n",
       "\t<tr><td>450</td><td>451</td><td>452</td><td>445</td><td>468</td></tr>\n",
       "\t<tr><td>230</td><td>231</td><td>232</td><td>236</td><td>228</td></tr>\n",
       "</tbody>\n",
       "</table>\n"
      ],
      "text/latex": [
       "\\begin{tabular}{lllll}\n",
       "\t 450 & 451 & 452 & 445 & 468\\\\\n",
       "\t 230 & 231 & 232 & 236 & 228\\\\\n",
       "\\end{tabular}\n"
      ],
      "text/markdown": [
       "\n",
       "| 450 | 451 | 452 | 445 | 468 |\n",
       "| 230 | 231 | 232 | 236 | 228 |\n",
       "\n"
      ],
      "text/plain": [
       "     [,1] [,2] [,3] [,4] [,5]\n",
       "[1,] 450  451  452  445  468 \n",
       "[2,] 230  231  232  236  228 "
      ]
     },
     "metadata": {},
     "output_type": "display_data"
    }
   ],
   "source": [
    "stock.matrix"
   ]
  },
  {
   "cell_type": "markdown",
   "metadata": {},
   "source": [
    "**Naming Matrices**"
   ]
  },
  {
   "cell_type": "code",
   "execution_count": 12,
   "metadata": {},
   "outputs": [],
   "source": [
    "days <- c('Mon', 'Tue', 'Wed', 'Thur', 'Fri')\n",
    "st.names <- c('GOOG', 'MSFT')"
   ]
  },
  {
   "cell_type": "code",
   "execution_count": 13,
   "metadata": {},
   "outputs": [],
   "source": [
    "colnames(x = stock.matrix) <- days\n",
    "rownames(x = stock.matrix) <- st.names"
   ]
  },
  {
   "cell_type": "code",
   "execution_count": 14,
   "metadata": {},
   "outputs": [
    {
     "data": {
      "text/html": [
       "<table>\n",
       "<thead><tr><th></th><th scope=col>Mon</th><th scope=col>Tue</th><th scope=col>Wed</th><th scope=col>Thur</th><th scope=col>Fri</th></tr></thead>\n",
       "<tbody>\n",
       "\t<tr><th scope=row>GOOG</th><td>450</td><td>451</td><td>452</td><td>445</td><td>468</td></tr>\n",
       "\t<tr><th scope=row>MSFT</th><td>230</td><td>231</td><td>232</td><td>236</td><td>228</td></tr>\n",
       "</tbody>\n",
       "</table>\n"
      ],
      "text/latex": [
       "\\begin{tabular}{r|lllll}\n",
       "  & Mon & Tue & Wed & Thur & Fri\\\\\n",
       "\\hline\n",
       "\tGOOG & 450 & 451 & 452 & 445 & 468\\\\\n",
       "\tMSFT & 230 & 231 & 232 & 236 & 228\\\\\n",
       "\\end{tabular}\n"
      ],
      "text/markdown": [
       "\n",
       "| <!--/--> | Mon | Tue | Wed | Thur | Fri |\n",
       "|---|---|---|---|---|---|\n",
       "| GOOG | 450 | 451 | 452 | 445 | 468 |\n",
       "| MSFT | 230 | 231 | 232 | 236 | 228 |\n",
       "\n"
      ],
      "text/plain": [
       "     Mon Tue Wed Thur Fri\n",
       "GOOG 450 451 452 445  468\n",
       "MSFT 230 231 232 236  228"
      ]
     },
     "metadata": {},
     "output_type": "display_data"
    }
   ],
   "source": [
    "stock.matrix"
   ]
  },
  {
   "cell_type": "markdown",
   "metadata": {},
   "source": [
    "# Matrix Arithmetic"
   ]
  },
  {
   "cell_type": "code",
   "execution_count": 20,
   "metadata": {},
   "outputs": [],
   "source": [
    "mat <- matrix(data = 1:50, byrow = TRUE, nrow = 10)"
   ]
  },
  {
   "cell_type": "code",
   "execution_count": 24,
   "metadata": {},
   "outputs": [
    {
     "name": "stdout",
     "output_type": "stream",
     "text": [
      "      [,1] [,2] [,3] [,4] [,5]\n",
      " [1,]    1    2    3    4    5\n",
      " [2,]    6    7    8    9   10\n",
      " [3,]   11   12   13   14   15\n",
      " [4,]   16   17   18   19   20\n",
      " [5,]   21   22   23   24   25\n",
      " [6,]   26   27   28   29   30\n",
      " [7,]   31   32   33   34   35\n",
      " [8,]   36   37   38   39   40\n",
      " [9,]   41   42   43   44   45\n",
      "[10,]   46   47   48   49   50\n",
      "      [,1] [,2] [,3] [,4] [,5]\n",
      " [1,]    2    4    6    8   10\n",
      " [2,]   12   14   16   18   20\n",
      " [3,]   22   24   26   28   30\n",
      " [4,]   32   34   36   38   40\n",
      " [5,]   42   44   46   48   50\n",
      " [6,]   52   54   56   58   60\n",
      " [7,]   62   64   66   68   70\n",
      " [8,]   72   74   76   78   80\n",
      " [9,]   82   84   86   88   90\n",
      "[10,]   92   94   96   98  100\n",
      "            [,1]       [,2]       [,3]       [,4]       [,5]\n",
      " [1,] 1.00000000 0.50000000 0.33333333 0.25000000 0.20000000\n",
      " [2,] 0.16666667 0.14285714 0.12500000 0.11111111 0.10000000\n",
      " [3,] 0.09090909 0.08333333 0.07692308 0.07142857 0.06666667\n",
      " [4,] 0.06250000 0.05882353 0.05555556 0.05263158 0.05000000\n",
      " [5,] 0.04761905 0.04545455 0.04347826 0.04166667 0.04000000\n",
      " [6,] 0.03846154 0.03703704 0.03571429 0.03448276 0.03333333\n",
      " [7,] 0.03225806 0.03125000 0.03030303 0.02941176 0.02857143\n",
      " [8,] 0.02777778 0.02702703 0.02631579 0.02564103 0.02500000\n",
      " [9,] 0.02439024 0.02380952 0.02325581 0.02272727 0.02222222\n",
      "[10,] 0.02173913 0.02127660 0.02083333 0.02040816 0.02000000\n",
      "      [,1] [,2] [,3] [,4] [,5]\n",
      " [1,]  0.5  1.0  1.5  2.0  2.5\n",
      " [2,]  3.0  3.5  4.0  4.5  5.0\n",
      " [3,]  5.5  6.0  6.5  7.0  7.5\n",
      " [4,]  8.0  8.5  9.0  9.5 10.0\n",
      " [5,] 10.5 11.0 11.5 12.0 12.5\n",
      " [6,] 13.0 13.5 14.0 14.5 15.0\n",
      " [7,] 15.5 16.0 16.5 17.0 17.5\n",
      " [8,] 18.0 18.5 19.0 19.5 20.0\n",
      " [9,] 20.5 21.0 21.5 22.0 22.5\n",
      "[10,] 23.0 23.5 24.0 24.5 25.0\n",
      "      [,1] [,2] [,3] [,4] [,5]\n",
      " [1,]    1    4    9   16   25\n",
      " [2,]   36   49   64   81  100\n",
      " [3,]  121  144  169  196  225\n",
      " [4,]  256  289  324  361  400\n",
      " [5,]  441  484  529  576  625\n",
      " [6,]  676  729  784  841  900\n",
      " [7,]  961 1024 1089 1156 1225\n",
      " [8,] 1296 1369 1444 1521 1600\n",
      " [9,] 1681 1764 1849 1936 2025\n",
      "[10,] 2116 2209 2304 2401 2500\n"
     ]
    }
   ],
   "source": [
    "print(mat)\n",
    "# multiplication\n",
    "print(2 * mat) \n",
    "# Reciprocal\n",
    "print(1 / mat)\n",
    "# Division\n",
    "print(mat / 2)\n",
    "# power or exponent\n",
    "print(mat ^ 2)"
   ]
  },
  {
   "cell_type": "markdown",
   "metadata": {},
   "source": [
    "**Comparison operators with matrices**"
   ]
  },
  {
   "cell_type": "code",
   "execution_count": 26,
   "metadata": {},
   "outputs": [
    {
     "name": "stdout",
     "output_type": "stream",
     "text": [
      "       [,1]  [,2]  [,3]  [,4]  [,5]\n",
      " [1,] FALSE FALSE FALSE FALSE FALSE\n",
      " [2,] FALSE FALSE FALSE FALSE FALSE\n",
      " [3,] FALSE FALSE FALSE FALSE FALSE\n",
      " [4,] FALSE FALSE  TRUE  TRUE  TRUE\n",
      " [5,]  TRUE  TRUE  TRUE  TRUE  TRUE\n",
      " [6,]  TRUE  TRUE  TRUE  TRUE  TRUE\n",
      " [7,]  TRUE  TRUE  TRUE  TRUE  TRUE\n",
      " [8,]  TRUE  TRUE  TRUE  TRUE  TRUE\n",
      " [9,]  TRUE  TRUE  TRUE  TRUE  TRUE\n",
      "[10,]  TRUE  TRUE  TRUE  TRUE  TRUE\n"
     ]
    }
   ],
   "source": [
    "print(mat > 17)"
   ]
  },
  {
   "cell_type": "markdown",
   "metadata": {},
   "source": [
    "**Matrix Arithmetic with multiple matrices**"
   ]
  },
  {
   "cell_type": "code",
   "execution_count": 31,
   "metadata": {},
   "outputs": [
    {
     "name": "stdout",
     "output_type": "stream",
     "text": [
      "      [,1] [,2] [,3] [,4] [,5]\n",
      " [1,]    2    4    6    8   10\n",
      " [2,]   12   14   16   18   20\n",
      " [3,]   22   24   26   28   30\n",
      " [4,]   32   34   36   38   40\n",
      " [5,]   42   44   46   48   50\n",
      " [6,]   52   54   56   58   60\n",
      " [7,]   62   64   66   68   70\n",
      " [8,]   72   74   76   78   80\n",
      " [9,]   82   84   86   88   90\n",
      "[10,]   92   94   96   98  100\n",
      "      [,1] [,2] [,3] [,4] [,5]\n",
      " [1,]    1    1    1    1    1\n",
      " [2,]    1    1    1    1    1\n",
      " [3,]    1    1    1    1    1\n",
      " [4,]    1    1    1    1    1\n",
      " [5,]    1    1    1    1    1\n",
      " [6,]    1    1    1    1    1\n",
      " [7,]    1    1    1    1    1\n",
      " [8,]    1    1    1    1    1\n",
      " [9,]    1    1    1    1    1\n",
      "[10,]    1    1    1    1    1\n",
      "              [,1]         [,2]         [,3]         [,4]         [,5]\n",
      " [1,] 1.000000e+00 4.000000e+00 2.700000e+01 2.560000e+02 3.125000e+03\n",
      " [2,] 4.665600e+04 8.235430e+05 1.677722e+07 3.874205e+08 1.000000e+10\n",
      " [3,] 2.853117e+11 8.916100e+12 3.028751e+14 1.111201e+16 4.378939e+17\n",
      " [4,] 1.844674e+19 8.272403e+20 3.934641e+22 1.978420e+24 1.048576e+26\n",
      " [5,] 5.842587e+27 3.414279e+29 2.088047e+31 1.333736e+33 8.881784e+34\n",
      " [6,] 6.156120e+36 4.434265e+38 3.314552e+40 2.567686e+42 2.058911e+44\n",
      " [7,] 1.706917e+46 1.461502e+48 1.291100e+50 1.175664e+52 1.102507e+54\n",
      " [8,] 1.063874e+56 1.055513e+58 1.075912e+60 1.125951e+62 1.208926e+64\n",
      " [9,] 1.330878e+66 1.501309e+68 1.734377e+70 2.050774e+72 2.480636e+74\n",
      "[10,] 3.068035e+76 3.877924e+78 5.007021e+80 6.600972e+82 8.881784e+84\n",
      "      [,1] [,2] [,3] [,4] [,5]\n",
      " [1,]    1    4    9   16   25\n",
      " [2,]   36   49   64   81  100\n",
      " [3,]  121  144  169  196  225\n",
      " [4,]  256  289  324  361  400\n",
      " [5,]  441  484  529  576  625\n",
      " [6,]  676  729  784  841  900\n",
      " [7,]  961 1024 1089 1156 1225\n",
      " [8,] 1296 1369 1444 1521 1600\n",
      " [9,] 1681 1764 1849 1936 2025\n",
      "[10,] 2116 2209 2304 2401 2500\n"
     ]
    }
   ],
   "source": [
    "print(mat + mat)\n",
    "print(mat / mat)\n",
    "print(mat ^ mat)\n",
    "print(mat * mat)"
   ]
  },
  {
   "cell_type": "markdown",
   "metadata": {},
   "source": [
    "**Matrix multiplication**"
   ]
  },
  {
   "cell_type": "code",
   "execution_count": 34,
   "metadata": {},
   "outputs": [],
   "source": [
    "mat2 <- matrix(data = 1:9, nrow = 3)"
   ]
  },
  {
   "cell_type": "code",
   "execution_count": 35,
   "metadata": {},
   "outputs": [
    {
     "name": "stdout",
     "output_type": "stream",
     "text": [
      "     [,1] [,2] [,3]\n",
      "[1,]    1    4    7\n",
      "[2,]    2    5    8\n",
      "[3,]    3    6    9\n"
     ]
    }
   ],
   "source": [
    "print(mat2)"
   ]
  },
  {
   "cell_type": "code",
   "execution_count": 38,
   "metadata": {},
   "outputs": [
    {
     "data": {
      "text/html": [
       "<table>\n",
       "<tbody>\n",
       "\t<tr><td>30 </td><td>66 </td><td>102</td></tr>\n",
       "\t<tr><td>36 </td><td>81 </td><td>126</td></tr>\n",
       "\t<tr><td>42 </td><td>96 </td><td>150</td></tr>\n",
       "</tbody>\n",
       "</table>\n"
      ],
      "text/latex": [
       "\\begin{tabular}{lll}\n",
       "\t 30  & 66  & 102\\\\\n",
       "\t 36  & 81  & 126\\\\\n",
       "\t 42  & 96  & 150\\\\\n",
       "\\end{tabular}\n"
      ],
      "text/markdown": [
       "\n",
       "| 30  | 66  | 102 |\n",
       "| 36  | 81  | 126 |\n",
       "| 42  | 96  | 150 |\n",
       "\n"
      ],
      "text/plain": [
       "     [,1] [,2] [,3]\n",
       "[1,] 30   66   102 \n",
       "[2,] 36   81   126 \n",
       "[3,] 42   96   150 "
      ]
     },
     "metadata": {},
     "output_type": "display_data"
    }
   ],
   "source": [
    "# Pure Algebric Matric Multiplication.\n",
    "mat2 %*% mat2"
   ]
  },
  {
   "cell_type": "markdown",
   "metadata": {},
   "source": [
    "# Matrix Operations"
   ]
  },
  {
   "cell_type": "code",
   "execution_count": 39,
   "metadata": {},
   "outputs": [],
   "source": [
    "goog <- c(450, 451, 452, 445, 468)\n",
    "msft <- c(230, 231, 232, 236, 228)"
   ]
  },
  {
   "cell_type": "code",
   "execution_count": 40,
   "metadata": {},
   "outputs": [],
   "source": [
    "stocks <- c(goog, msft)\n",
    "stock.matrix <- matrix(data = stocks, nrow = 2, byrow = TRUE)"
   ]
  },
  {
   "cell_type": "code",
   "execution_count": 41,
   "metadata": {},
   "outputs": [
    {
     "data": {
      "text/html": [
       "<table>\n",
       "<tbody>\n",
       "\t<tr><td>450</td><td>451</td><td>452</td><td>445</td><td>468</td></tr>\n",
       "\t<tr><td>230</td><td>231</td><td>232</td><td>236</td><td>228</td></tr>\n",
       "</tbody>\n",
       "</table>\n"
      ],
      "text/latex": [
       "\\begin{tabular}{lllll}\n",
       "\t 450 & 451 & 452 & 445 & 468\\\\\n",
       "\t 230 & 231 & 232 & 236 & 228\\\\\n",
       "\\end{tabular}\n"
      ],
      "text/markdown": [
       "\n",
       "| 450 | 451 | 452 | 445 | 468 |\n",
       "| 230 | 231 | 232 | 236 | 228 |\n",
       "\n"
      ],
      "text/plain": [
       "     [,1] [,2] [,3] [,4] [,5]\n",
       "[1,] 450  451  452  445  468 \n",
       "[2,] 230  231  232  236  228 "
      ]
     },
     "metadata": {},
     "output_type": "display_data"
    }
   ],
   "source": [
    "stock.matrix"
   ]
  },
  {
   "cell_type": "code",
   "execution_count": 42,
   "metadata": {},
   "outputs": [],
   "source": [
    "days <- c('Mon', 'Tue', 'Wed', 'Thur', 'Fri')\n",
    "st.names <- c('GOOG', 'MSFT')"
   ]
  },
  {
   "cell_type": "code",
   "execution_count": 43,
   "metadata": {},
   "outputs": [],
   "source": [
    "colnames(stock.matrix) <- days\n",
    "rownames(stock.matrix) <- st.names"
   ]
  },
  {
   "cell_type": "code",
   "execution_count": 44,
   "metadata": {},
   "outputs": [
    {
     "data": {
      "text/html": [
       "<table>\n",
       "<thead><tr><th></th><th scope=col>Mon</th><th scope=col>Tue</th><th scope=col>Wed</th><th scope=col>Thur</th><th scope=col>Fri</th></tr></thead>\n",
       "<tbody>\n",
       "\t<tr><th scope=row>GOOG</th><td>450</td><td>451</td><td>452</td><td>445</td><td>468</td></tr>\n",
       "\t<tr><th scope=row>MSFT</th><td>230</td><td>231</td><td>232</td><td>236</td><td>228</td></tr>\n",
       "</tbody>\n",
       "</table>\n"
      ],
      "text/latex": [
       "\\begin{tabular}{r|lllll}\n",
       "  & Mon & Tue & Wed & Thur & Fri\\\\\n",
       "\\hline\n",
       "\tGOOG & 450 & 451 & 452 & 445 & 468\\\\\n",
       "\tMSFT & 230 & 231 & 232 & 236 & 228\\\\\n",
       "\\end{tabular}\n"
      ],
      "text/markdown": [
       "\n",
       "| <!--/--> | Mon | Tue | Wed | Thur | Fri |\n",
       "|---|---|---|---|---|---|\n",
       "| GOOG | 450 | 451 | 452 | 445 | 468 |\n",
       "| MSFT | 230 | 231 | 232 | 236 | 228 |\n",
       "\n"
      ],
      "text/plain": [
       "     Mon Tue Wed Thur Fri\n",
       "GOOG 450 451 452 445  468\n",
       "MSFT 230 231 232 236  228"
      ]
     },
     "metadata": {},
     "output_type": "display_data"
    }
   ],
   "source": [
    "stock.matrix"
   ]
  },
  {
   "cell_type": "code",
   "execution_count": 45,
   "metadata": {},
   "outputs": [
    {
     "data": {
      "text/html": [
       "<dl class=dl-horizontal>\n",
       "\t<dt>Mon</dt>\n",
       "\t\t<dd>680</dd>\n",
       "\t<dt>Tue</dt>\n",
       "\t\t<dd>682</dd>\n",
       "\t<dt>Wed</dt>\n",
       "\t\t<dd>684</dd>\n",
       "\t<dt>Thur</dt>\n",
       "\t\t<dd>681</dd>\n",
       "\t<dt>Fri</dt>\n",
       "\t\t<dd>696</dd>\n",
       "</dl>\n"
      ],
      "text/latex": [
       "\\begin{description*}\n",
       "\\item[Mon] 680\n",
       "\\item[Tue] 682\n",
       "\\item[Wed] 684\n",
       "\\item[Thur] 681\n",
       "\\item[Fri] 696\n",
       "\\end{description*}\n"
      ],
      "text/markdown": [
       "Mon\n",
       ":   680Tue\n",
       ":   682Wed\n",
       ":   684Thur\n",
       ":   681Fri\n",
       ":   696\n",
       "\n"
      ],
      "text/plain": [
       " Mon  Tue  Wed Thur  Fri \n",
       " 680  682  684  681  696 "
      ]
     },
     "metadata": {},
     "output_type": "display_data"
    }
   ],
   "source": [
    "colSums(x = stock.matrix)"
   ]
  },
  {
   "cell_type": "code",
   "execution_count": 46,
   "metadata": {},
   "outputs": [
    {
     "data": {
      "text/html": [
       "<dl class=dl-horizontal>\n",
       "\t<dt>GOOG</dt>\n",
       "\t\t<dd>2266</dd>\n",
       "\t<dt>MSFT</dt>\n",
       "\t\t<dd>1157</dd>\n",
       "</dl>\n"
      ],
      "text/latex": [
       "\\begin{description*}\n",
       "\\item[GOOG] 2266\n",
       "\\item[MSFT] 1157\n",
       "\\end{description*}\n"
      ],
      "text/markdown": [
       "GOOG\n",
       ":   2266MSFT\n",
       ":   1157\n",
       "\n"
      ],
      "text/plain": [
       "GOOG MSFT \n",
       "2266 1157 "
      ]
     },
     "metadata": {},
     "output_type": "display_data"
    }
   ],
   "source": [
    "rowSums(x = stock.matrix)"
   ]
  },
  {
   "cell_type": "code",
   "execution_count": 47,
   "metadata": {},
   "outputs": [
    {
     "data": {
      "text/html": [
       "<dl class=dl-horizontal>\n",
       "\t<dt>Mon</dt>\n",
       "\t\t<dd>340</dd>\n",
       "\t<dt>Tue</dt>\n",
       "\t\t<dd>341</dd>\n",
       "\t<dt>Wed</dt>\n",
       "\t\t<dd>342</dd>\n",
       "\t<dt>Thur</dt>\n",
       "\t\t<dd>340.5</dd>\n",
       "\t<dt>Fri</dt>\n",
       "\t\t<dd>348</dd>\n",
       "</dl>\n"
      ],
      "text/latex": [
       "\\begin{description*}\n",
       "\\item[Mon] 340\n",
       "\\item[Tue] 341\n",
       "\\item[Wed] 342\n",
       "\\item[Thur] 340.5\n",
       "\\item[Fri] 348\n",
       "\\end{description*}\n"
      ],
      "text/markdown": [
       "Mon\n",
       ":   340Tue\n",
       ":   341Wed\n",
       ":   342Thur\n",
       ":   340.5Fri\n",
       ":   348\n",
       "\n"
      ],
      "text/plain": [
       "  Mon   Tue   Wed  Thur   Fri \n",
       "340.0 341.0 342.0 340.5 348.0 "
      ]
     },
     "metadata": {},
     "output_type": "display_data"
    }
   ],
   "source": [
    "colMeans(x = stock.matrix)"
   ]
  },
  {
   "cell_type": "code",
   "execution_count": 48,
   "metadata": {},
   "outputs": [
    {
     "data": {
      "text/html": [
       "<dl class=dl-horizontal>\n",
       "\t<dt>GOOG</dt>\n",
       "\t\t<dd>453.2</dd>\n",
       "\t<dt>MSFT</dt>\n",
       "\t\t<dd>231.4</dd>\n",
       "</dl>\n"
      ],
      "text/latex": [
       "\\begin{description*}\n",
       "\\item[GOOG] 453.2\n",
       "\\item[MSFT] 231.4\n",
       "\\end{description*}\n"
      ],
      "text/markdown": [
       "GOOG\n",
       ":   453.2MSFT\n",
       ":   231.4\n",
       "\n"
      ],
      "text/plain": [
       " GOOG  MSFT \n",
       "453.2 231.4 "
      ]
     },
     "metadata": {},
     "output_type": "display_data"
    }
   ],
   "source": [
    "rowMeans(x = stock.matrix)"
   ]
  },
  {
   "cell_type": "markdown",
   "metadata": {},
   "source": [
    "**Binding columns and rows**"
   ]
  },
  {
   "cell_type": "code",
   "execution_count": 49,
   "metadata": {},
   "outputs": [],
   "source": [
    "FB <- c(111, 112, 113, 120, 145)\n",
    "stock.matrix <- rbind(stock.matrix, FB)"
   ]
  },
  {
   "cell_type": "code",
   "execution_count": 50,
   "metadata": {},
   "outputs": [
    {
     "data": {
      "text/html": [
       "<table>\n",
       "<thead><tr><th></th><th scope=col>Mon</th><th scope=col>Tue</th><th scope=col>Wed</th><th scope=col>Thur</th><th scope=col>Fri</th></tr></thead>\n",
       "<tbody>\n",
       "\t<tr><th scope=row>GOOG</th><td>450</td><td>451</td><td>452</td><td>445</td><td>468</td></tr>\n",
       "\t<tr><th scope=row>MSFT</th><td>230</td><td>231</td><td>232</td><td>236</td><td>228</td></tr>\n",
       "\t<tr><th scope=row>FB</th><td>111</td><td>112</td><td>113</td><td>120</td><td>145</td></tr>\n",
       "</tbody>\n",
       "</table>\n"
      ],
      "text/latex": [
       "\\begin{tabular}{r|lllll}\n",
       "  & Mon & Tue & Wed & Thur & Fri\\\\\n",
       "\\hline\n",
       "\tGOOG & 450 & 451 & 452 & 445 & 468\\\\\n",
       "\tMSFT & 230 & 231 & 232 & 236 & 228\\\\\n",
       "\tFB & 111 & 112 & 113 & 120 & 145\\\\\n",
       "\\end{tabular}\n"
      ],
      "text/markdown": [
       "\n",
       "| <!--/--> | Mon | Tue | Wed | Thur | Fri |\n",
       "|---|---|---|---|---|---|\n",
       "| GOOG | 450 | 451 | 452 | 445 | 468 |\n",
       "| MSFT | 230 | 231 | 232 | 236 | 228 |\n",
       "| FB | 111 | 112 | 113 | 120 | 145 |\n",
       "\n"
      ],
      "text/plain": [
       "     Mon Tue Wed Thur Fri\n",
       "GOOG 450 451 452 445  468\n",
       "MSFT 230 231 232 236  228\n",
       "FB   111 112 113 120  145"
      ]
     },
     "metadata": {},
     "output_type": "display_data"
    }
   ],
   "source": [
    "stock.matrix"
   ]
  },
  {
   "cell_type": "code",
   "execution_count": 51,
   "metadata": {},
   "outputs": [],
   "source": [
    "avg <- rowMeans(x = stock.matrix)"
   ]
  },
  {
   "cell_type": "code",
   "execution_count": 53,
   "metadata": {},
   "outputs": [
    {
     "data": {
      "text/html": [
       "<dl class=dl-horizontal>\n",
       "\t<dt>GOOG</dt>\n",
       "\t\t<dd>453.2</dd>\n",
       "\t<dt>MSFT</dt>\n",
       "\t\t<dd>231.4</dd>\n",
       "\t<dt>FB</dt>\n",
       "\t\t<dd>120.2</dd>\n",
       "</dl>\n"
      ],
      "text/latex": [
       "\\begin{description*}\n",
       "\\item[GOOG] 453.2\n",
       "\\item[MSFT] 231.4\n",
       "\\item[FB] 120.2\n",
       "\\end{description*}\n"
      ],
      "text/markdown": [
       "GOOG\n",
       ":   453.2MSFT\n",
       ":   231.4FB\n",
       ":   120.2\n",
       "\n"
      ],
      "text/plain": [
       " GOOG  MSFT    FB \n",
       "453.2 231.4 120.2 "
      ]
     },
     "metadata": {},
     "output_type": "display_data"
    }
   ],
   "source": [
    "avg"
   ]
  },
  {
   "cell_type": "code",
   "execution_count": 54,
   "metadata": {},
   "outputs": [],
   "source": [
    "stock.matrix <- cbind(stock.matrix, avg)"
   ]
  },
  {
   "cell_type": "code",
   "execution_count": 55,
   "metadata": {},
   "outputs": [
    {
     "data": {
      "text/html": [
       "<table>\n",
       "<thead><tr><th></th><th scope=col>Mon</th><th scope=col>Tue</th><th scope=col>Wed</th><th scope=col>Thur</th><th scope=col>Fri</th><th scope=col>avg</th></tr></thead>\n",
       "<tbody>\n",
       "\t<tr><th scope=row>GOOG</th><td>450  </td><td>451  </td><td>452  </td><td>445  </td><td>468  </td><td>453.2</td></tr>\n",
       "\t<tr><th scope=row>MSFT</th><td>230  </td><td>231  </td><td>232  </td><td>236  </td><td>228  </td><td>231.4</td></tr>\n",
       "\t<tr><th scope=row>FB</th><td>111  </td><td>112  </td><td>113  </td><td>120  </td><td>145  </td><td>120.2</td></tr>\n",
       "</tbody>\n",
       "</table>\n"
      ],
      "text/latex": [
       "\\begin{tabular}{r|llllll}\n",
       "  & Mon & Tue & Wed & Thur & Fri & avg\\\\\n",
       "\\hline\n",
       "\tGOOG & 450   & 451   & 452   & 445   & 468   & 453.2\\\\\n",
       "\tMSFT & 230   & 231   & 232   & 236   & 228   & 231.4\\\\\n",
       "\tFB & 111   & 112   & 113   & 120   & 145   & 120.2\\\\\n",
       "\\end{tabular}\n"
      ],
      "text/markdown": [
       "\n",
       "| <!--/--> | Mon | Tue | Wed | Thur | Fri | avg |\n",
       "|---|---|---|---|---|---|---|\n",
       "| GOOG | 450   | 451   | 452   | 445   | 468   | 453.2 |\n",
       "| MSFT | 230   | 231   | 232   | 236   | 228   | 231.4 |\n",
       "| FB | 111   | 112   | 113   | 120   | 145   | 120.2 |\n",
       "\n"
      ],
      "text/plain": [
       "     Mon Tue Wed Thur Fri avg  \n",
       "GOOG 450 451 452 445  468 453.2\n",
       "MSFT 230 231 232 236  228 231.4\n",
       "FB   111 112 113 120  145 120.2"
      ]
     },
     "metadata": {},
     "output_type": "display_data"
    }
   ],
   "source": [
    "stock.matrix"
   ]
  },
  {
   "cell_type": "code",
   "execution_count": null,
   "metadata": {},
   "outputs": [],
   "source": []
  }
 ],
 "metadata": {
  "kernelspec": {
   "display_name": "R",
   "language": "R",
   "name": "ir"
  },
  "language_info": {
   "codemirror_mode": "r",
   "file_extension": ".r",
   "mimetype": "text/x-r-source",
   "name": "R",
   "pygments_lexer": "r",
   "version": "3.6.1"
  }
 },
 "nbformat": 4,
 "nbformat_minor": 2
}
